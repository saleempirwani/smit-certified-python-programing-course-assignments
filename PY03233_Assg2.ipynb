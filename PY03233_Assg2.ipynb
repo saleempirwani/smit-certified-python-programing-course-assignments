{
 "cells": [
  {
   "cell_type": "markdown",
   "metadata": {},
   "source": [
    "# Course: Certified Python Programming\n",
    "## Assignment # 2\n",
    "### Rollno: PY03233\n",
    "### Name: Muhammad Saleem Raza"
   ]
  },
  {
   "cell_type": "markdown",
   "metadata": {},
   "source": [
    "### 1. Write a program which takes 5 inputs from user for different subject’s marks, total it and generate mark sheet using grades ?"
   ]
  },
  {
   "cell_type": "code",
   "execution_count": 2,
   "metadata": {},
   "outputs": [
    {
     "name": "stdout",
     "output_type": "stream",
     "text": [
      "Enter 5 subjects marks out of 50\n",
      "Enter marks of subject # 1: 40\n",
      "Enter marks of subject # 2: 45\n",
      "Enter marks of subject # 3: 42\n",
      "Enter marks of subject # 4: 35\n",
      "Enter marks of subject # 5: 30\n",
      "\n",
      "You got A grade\n"
     ]
    }
   ],
   "source": [
    "print('Enter 5 subjects marks out of 50')\n",
    "\n",
    "i = 0\n",
    "marks = []\n",
    "\n",
    "while i < 5:\n",
    "    mark = int(input(f'Enter marks of subject # {i+1}: '))\n",
    "    marks.append(mark)\n",
    "    i += 1\n",
    "print()    \n",
    "per = (sum(marks) / 250) * 100 \n",
    "\n",
    "if per >= 80:\n",
    "    print('You got A-one grade')\n",
    "elif per < 80 and per >=70:\n",
    "    print('You got A grade')\n",
    "elif per < 70 and per >=60:\n",
    "    print('You got B grade')\n",
    "elif per < 60 and per >=50:\n",
    "    print('You got C grade')\n",
    "else:\n",
    "    print(\"Fail\")"
   ]
  },
  {
   "cell_type": "markdown",
   "metadata": {},
   "source": [
    "### 2. Write a program which take input from user and identify that the given number is even or odd?"
   ]
  },
  {
   "cell_type": "code",
   "execution_count": 4,
   "metadata": {},
   "outputs": [
    {
     "name": "stdout",
     "output_type": "stream",
     "text": [
      "Enter a no: 4\n",
      "Even no\n"
     ]
    }
   ],
   "source": [
    "no = int(input('Enter a no: '))\n",
    "if no%2 == 0:\n",
    "    print('Even no')\n",
    "else:\n",
    "    print('Odd no')"
   ]
  },
  {
   "cell_type": "markdown",
   "metadata": {},
   "source": [
    "### 3. Write a program which print the length of the list?"
   ]
  },
  {
   "cell_type": "code",
   "execution_count": 6,
   "metadata": {},
   "outputs": [
    {
     "name": "stdout",
     "output_type": "stream",
     "text": [
      "4\n"
     ]
    }
   ],
   "source": [
    "abc = [2, 2, 4, 6]\n",
    "print(len(abc))"
   ]
  },
  {
   "cell_type": "markdown",
   "metadata": {},
   "source": [
    "### 4. Write a Python program to sum all the numeric items in a list?"
   ]
  },
  {
   "cell_type": "code",
   "execution_count": 7,
   "metadata": {},
   "outputs": [
    {
     "name": "stdout",
     "output_type": "stream",
     "text": [
      "14\n"
     ]
    }
   ],
   "source": [
    "abc = [2, 2, 4, 6]\n",
    "print(sum(abc))"
   ]
  },
  {
   "cell_type": "markdown",
   "metadata": {},
   "source": [
    "### 5. Write a Python program to get the largest number from a numeric list."
   ]
  },
  {
   "cell_type": "code",
   "execution_count": 16,
   "metadata": {},
   "outputs": [
    {
     "name": "stdout",
     "output_type": "stream",
     "text": [
      "6\n"
     ]
    }
   ],
   "source": [
    "abc = [2, 2, 4, 6]\n",
    "print(max(abc))"
   ]
  },
  {
   "cell_type": "markdown",
   "metadata": {},
   "source": [
    "### 6. Take a list, say for example this one:\n",
    "#### a = [1, 1, 2, 3, 5, 8, 13, 21, 34, 55, 89]\n",
    "### and write a program that prints out all the elements of the list that are less than 5."
   ]
  },
  {
   "cell_type": "code",
   "execution_count": 18,
   "metadata": {},
   "outputs": [
    {
     "name": "stdout",
     "output_type": "stream",
     "text": [
      "1\n",
      "1\n",
      "2\n",
      "3\n"
     ]
    }
   ],
   "source": [
    "a = [1, 1, 2, 3, 5, 8, 13, 21, 34, 55, 89]\n",
    "for x in a:\n",
    "    if x < 5:\n",
    "        print(x)"
   ]
  }
 ],
 "metadata": {
  "kernelspec": {
   "display_name": "Python 3",
   "language": "python",
   "name": "python3"
  },
  "language_info": {
   "codemirror_mode": {
    "name": "ipython",
    "version": 3
   },
   "file_extension": ".py",
   "mimetype": "text/x-python",
   "name": "python",
   "nbconvert_exporter": "python",
   "pygments_lexer": "ipython3",
   "version": "3.7.3"
  }
 },
 "nbformat": 4,
 "nbformat_minor": 2
}
