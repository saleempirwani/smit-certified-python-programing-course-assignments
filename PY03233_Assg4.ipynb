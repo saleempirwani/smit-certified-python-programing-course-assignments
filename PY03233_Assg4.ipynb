{
 "cells": [
  {
   "cell_type": "markdown",
   "metadata": {},
   "source": [
    "# Course: Certified Python Programming\n",
    "## Assignment # 4\n",
    "### Rollno: PY03233\n",
    "### Name: Muhammad Saleem Raza"
   ]
  },
  {
   "cell_type": "markdown",
   "metadata": {},
   "source": [
    "### 1. Use a dictionary to store information about a person you know. Store their first name, last name, age, and the city in which they live. You should have keys such as first_name, last_name, age, and city. Print each piece of information stored in your dictionary. Add a new key value pair about qualification then update the qualification value to high academic level then delete it."
   ]
  },
  {
   "cell_type": "code",
   "execution_count": 1,
   "metadata": {},
   "outputs": [
    {
     "name": "stdout",
     "output_type": "stream",
     "text": [
      "fname: Ali\n",
      "lname: Ahmed\n",
      "age: 22\n",
      "city: Lahore\n",
      "\n",
      "fname: Ali\n",
      "lname: Ahmed\n",
      "age: 22\n",
      "city: Lahore\n",
      "qualification: Intermediate\n",
      "\n",
      "fname: Ali\n",
      "lname: Ahmed\n",
      "age: 22\n",
      "city: Lahore\n",
      "qualification: Undergraduate\n",
      "\n",
      "fname: Ali\n",
      "lname: Ahmed\n",
      "age: 22\n",
      "city: Lahore\n"
     ]
    }
   ],
   "source": [
    "info = {\n",
    "    'fname': 'Ali',\n",
    "    'lname': 'Ahmed',\n",
    "    'age': 22,\n",
    "    'city': 'Lahore'\n",
    "}\n",
    "\n",
    "for k,v in info.items():\n",
    "    print(k + ':', v)\n",
    "\n",
    "info.update({'qualification': 'Intermediate'})\n",
    "print()\n",
    "for k,v in info.items():\n",
    "    print(k + ':', v)\n",
    "\n",
    "info['qualification'] = 'Undergraduate'\n",
    "\n",
    "print()\n",
    "for k,v in info.items():\n",
    "    print(k + ':', v)\n",
    "\n",
    "del info['qualification']\n",
    "\n",
    "print()\n",
    "for k,v in info.items():\n",
    "    print(k + ':', v)"
   ]
  },
  {
   "cell_type": "markdown",
   "metadata": {},
   "source": [
    "### 2. Make a dictionary called cities. Use the names of three cities as keys in your dictionary. Create a dictionary of information about each city and include the country that the city is in, its approximate population, and one fact about that city. The keys for each city’s dictionary should be something like country, population, and fact. Print the name of each city and all of the information you have stored about it. "
   ]
  },
  {
   "cell_type": "code",
   "execution_count": 2,
   "metadata": {},
   "outputs": [
    {
     "name": "stdout",
     "output_type": "stream",
     "text": [
      "Karachi\n",
      "country: Pakistan\n",
      "pop: 216.5 million\n",
      "fact: Pakistan is the world’s first Islamic country to attain nuclear power.\n",
      "\n",
      "Istanbul\n",
      "country: Turkey\n",
      "pop: 14.9 million\n",
      "fact: Istanbul (ancient Byzantium) was founded on Seven Hills like Rome.\n",
      "\n",
      "Kualalumpur\n",
      "country: Malaysia\n",
      "pop: 7.7 million\n",
      "fact: Kuala Lumpur Means “Muddy Confluence”\n",
      "\n"
     ]
    }
   ],
   "source": [
    "cities = {\n",
    "    'Karachi': {'country': 'Pakistan', 'pop': '216.5 million', 'fact': 'Pakistan is the world’s first Islamic country to attain nuclear power.' },\n",
    "    'Istanbul': {'country': 'Turkey', 'pop': '14.9 million', 'fact': 'Istanbul (ancient Byzantium) was founded on Seven Hills like Rome.'},\n",
    "    'Kualalumpur': {'country': 'Malaysia', 'pop': '7.7 million' , 'fact': 'Kuala Lumpur Means “Muddy Confluence”'}\n",
    "}\n",
    "    \n",
    "for k,v in cities.items():\n",
    "    print(k)\n",
    "    for x,y in v.items():\n",
    "        print(x + ':', y)\n",
    "    print()"
   ]
  },
  {
   "cell_type": "markdown",
   "metadata": {},
   "source": [
    "### 3. A movie theater charges different ticket prices depending on a person’s age. If a person is under the age of 3, the ticket is free; if they are between 3 and 12, the ticket is 10 dollar ; and if they are over age 12, the ticket is 15 dollar. Write a loop in which you ask users their age, and then tell them the cost of their movie ticket."
   ]
  },
  {
   "cell_type": "code",
   "execution_count": 3,
   "metadata": {},
   "outputs": [
    {
     "name": "stdout",
     "output_type": "stream",
     "text": [
      "Enter your age: 21\n",
      "The cost of movie ticket is $15\n"
     ]
    }
   ],
   "source": [
    "while True:\n",
    "    age = int(input('Enter your age: '))\n",
    "    if age < 3:\n",
    "        print('The cost of movie ticket is free')\n",
    "        break\n",
    "    elif age >= 3 and age <= 12:\n",
    "        print('The cost of movie ticket is $10')\n",
    "        break\n",
    "    else:\n",
    "        print('The cost of movie ticket is $15')\n",
    "        break"
   ]
  },
  {
   "cell_type": "markdown",
   "metadata": {},
   "source": [
    "### 4. Write a function called favorite_book() that accepts one parameter, title. The function should print a message, such as One of my favorite books is Alice in Wonderland. Call the function, making sure to include a book title as an argument in the function call."
   ]
  },
  {
   "cell_type": "code",
   "execution_count": 4,
   "metadata": {},
   "outputs": [
    {
     "name": "stdout",
     "output_type": "stream",
     "text": [
      "One of my favorite books is Alice in Wonderland\n"
     ]
    }
   ],
   "source": [
    "def favorite_book(title):\n",
    "    print('One of my favorite books is ' + title)\n",
    "\n",
    "favorite_book('Alice in Wonderland')"
   ]
  },
  {
   "cell_type": "markdown",
   "metadata": {},
   "source": [
    "## 5. Guess the number game\n",
    "### Write a program which randomly generate a number between 1 to 30 and ask the user in input field to guess the correct number. Give three chances to user guess the number and also give hint to user if hidden number is greater or smaller than the number he given to input field."
   ]
  },
  {
   "cell_type": "code",
   "execution_count": 10,
   "metadata": {},
   "outputs": [
    {
     "name": "stdout",
     "output_type": "stream",
     "text": [
      "Guess the number game\n",
      "*********************\n",
      "Enter your guess number: 5\n",
      "Hint: Your guess is less than actual guess.\n",
      "\n",
      "Enter your guess number: 9\n",
      "Congrats! You won\n"
     ]
    }
   ],
   "source": [
    "import random \n",
    "rand_no = random.randint(1, 10)\n",
    "count = 0\n",
    "print('Guess the number game')\n",
    "print('*********************')\n",
    "while True:\n",
    "    user_input = int(input('Enter your guess number: '))\n",
    "    \n",
    "    if user_input == rand_no:\n",
    "        print('Congrats! You won')\n",
    "        break\n",
    "    if user_input < rand_no:\n",
    "        print('Hint: Your guess is less than actual guess.')\n",
    "        print()\n",
    "        count += 1\n",
    "        \n",
    "    else: \n",
    "        print('Hint: Your guess is greater than actual guess.')\n",
    "        print()\n",
    "        count += 1\n",
    "        \n",
    "    if count == 3:\n",
    "        print('You Loss')\n",
    "        break"
   ]
  },
  {
   "cell_type": "code",
   "execution_count": null,
   "metadata": {},
   "outputs": [],
   "source": []
  }
 ],
 "metadata": {
  "kernelspec": {
   "display_name": "Python 3",
   "language": "python",
   "name": "python3"
  },
  "language_info": {
   "codemirror_mode": {
    "name": "ipython",
    "version": 3
   },
   "file_extension": ".py",
   "mimetype": "text/x-python",
   "name": "python",
   "nbconvert_exporter": "python",
   "pygments_lexer": "ipython3",
   "version": "3.7.3"
  }
 },
 "nbformat": 4,
 "nbformat_minor": 2
}
