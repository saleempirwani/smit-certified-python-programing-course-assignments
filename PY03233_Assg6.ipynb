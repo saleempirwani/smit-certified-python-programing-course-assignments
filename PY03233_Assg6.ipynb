{
 "cells": [
  {
   "cell_type": "markdown",
   "metadata": {},
   "source": [
    "# Course: Certified Python Programming\n",
    "## Assignment # 6\n",
    "### Rollno: PY03233\n",
    "### Name: Muhammad Saleem Raza"
   ]
  },
  {
   "cell_type": "markdown",
   "metadata": {},
   "source": [
    "### Q1. Define Object Oriented Programming Language?"
   ]
  },
  {
   "cell_type": "markdown",
   "metadata": {},
   "source": [
    "Object oriented programming, refers to a type of programming in which programmers define not only the data type of a data structure, but also the types of operations (methods) that can be applied to the data structure."
   ]
  },
  {
   "cell_type": "markdown",
   "metadata": {},
   "source": [
    "### Q2. List down the Benefits of OOP?\n"
   ]
  },
  {
   "cell_type": "markdown",
   "metadata": {},
   "source": [
    "1. Modularity for easier troubleshooting\n",
    "2. Reuse of code through inheritance\n",
    "3. Flexibility through polymorphism\n",
    "4. Effective problem solving"
   ]
  },
  {
   "cell_type": "markdown",
   "metadata": {},
   "source": [
    "### Q3. Differentiate between function and method?"
   ]
  },
  {
   "cell_type": "markdown",
   "metadata": {},
   "source": [
    "A function is a piece of code that is called by name. A method is a piece of code that is called by a name that is associated with an object.\n",
    "```\n",
    "e.g: \n",
    "Function calling:\n",
    "sqrt(4)\n",
    "Method calling:\n",
    "math = Math()\n",
    "math.sqrt(4)```"
   ]
  },
  {
   "cell_type": "markdown",
   "metadata": {},
   "source": [
    "### Q4. Define the following terms:\n",
    "1. Class\n",
    "2. Object\n",
    "3. Attribute\n",
    "4. Behavior"
   ]
  },
  {
   "cell_type": "markdown",
   "metadata": {},
   "source": [
    "1. **Class:** A class is a code template for creating objects. Objects have member variables and have behaviour associated with them. \n",
    "2. **Object:** Each object is an instance of a particular class or subclass with the class's own methods or procedures and data variables.\n",
    "3. **Attribute:** An attribute is a specification that defines a property of an object.\n",
    "4. **Behavior:** The behavior of an object is defined by its methods. Methods determine what type of functionality a class has, how it modifies its data, and its overall behavior."
   ]
  },
  {
   "cell_type": "markdown",
   "metadata": {},
   "source": [
    "### Q5.Write a code in python in which create a class named it Car which have 5 attributes such like (model, color and name etc.) and 3 methods. And create 5 object instance from that class."
   ]
  },
  {
   "cell_type": "code",
   "execution_count": 10,
   "metadata": {},
   "outputs": [
    {
     "name": "stdout",
     "output_type": "stream",
     "text": [
      "\n",
      "Brand: Audi\n",
      "Name:  A4\n",
      "Model: 2016\n",
      "Color: Black\n",
      "Price: 8000000\n",
      "The car engine has started...\n",
      "The car engine has stopped...\n"
     ]
    }
   ],
   "source": [
    "class Car:\n",
    "    def __init__(self, model, color, name, brand, price):\n",
    "        self.model = model\n",
    "        self.color = color\n",
    "        self.name = name\n",
    "        self.brand = brand\n",
    "        self.price = price\n",
    "\n",
    "    def start(self):\n",
    "        print('The car engine has started...')\n",
    "    \n",
    "    def stop(self):\n",
    "        print('The car engine has stopped...')\n",
    "    \n",
    "    def specification(self):\n",
    "        print(f\"\"\"\n",
    "Brand: {self.brand}\n",
    "Name:  {self.name}\n",
    "Model: {self.model}\n",
    "Color: {self.color}\n",
    "Price: {self.price}\"\"\")\n",
    "\n",
    "car1 = Car(2016, 'Black', 'A4', 'Audi', 8000000 )\n",
    "car2 = Car(2017, 'White', 'C200', 'Mercedes', 8500000)\n",
    "car3 = Car(2018, 'Red', 'Tiguan', 'Volkswagen', 8200000)\n",
    "car4 = Car(2019, 'Blue', 'P-Pace', 'Jaguar', 10000000)\n",
    "car5 = Car(2020, 'Brown', 'x6', 'BMW', 20000000)\n",
    "\n",
    "car1.specification()\n",
    "car1.start()\n",
    "car1.stop()"
   ]
  }
 ],
 "metadata": {
  "kernelspec": {
   "display_name": "Python 3",
   "language": "python",
   "name": "python3"
  },
  "language_info": {
   "codemirror_mode": {
    "name": "ipython",
    "version": 3
   },
   "file_extension": ".py",
   "mimetype": "text/x-python",
   "name": "python",
   "nbconvert_exporter": "python",
   "pygments_lexer": "ipython3",
   "version": "3.7.3"
  }
 },
 "nbformat": 4,
 "nbformat_minor": 2
}
