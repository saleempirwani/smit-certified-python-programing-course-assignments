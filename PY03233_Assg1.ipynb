{
 "cells": [
  {
   "cell_type": "markdown",
   "metadata": {},
   "source": [
    "# Course: Certified Python Programming\n",
    "## Assignment # 1\n",
    "### Rollno: PY03233\n",
    "### Name: Muhammad Saleem Raza"
   ]
  },
  {
   "cell_type": "markdown",
   "metadata": {},
   "source": [
    "### 1. Write a Python program to print the following string in a specific format (see the output).\n",
    "```\n",
    "Twinkle, twinkle, little star,\n",
    "    How I wonder what you are! \n",
    "        Up above the world so high,   \n",
    "        Like a diamond in the sky. \n",
    "Twinkle, twinkle, little star, \n",
    "    How I wonder what you are\n",
    "\n",
    "```"
   ]
  },
  {
   "cell_type": "code",
   "execution_count": 3,
   "metadata": {},
   "outputs": [
    {
     "name": "stdout",
     "output_type": "stream",
     "text": [
      "\n",
      "Twinkle, twinkle, little star,\n",
      "    How I wonder what you are! \n",
      "        Up above the world so high,   \n",
      "        Like a diamond in the sky. \n",
      "Twinkle, twinkle, little star, \n",
      "    How I wonder what you are\n",
      "\n"
     ]
    }
   ],
   "source": [
    "txt = \"\"\"\n",
    "Twinkle, twinkle, little star,\n",
    "    How I wonder what you are! \n",
    "        Up above the world so high,   \n",
    "        Like a diamond in the sky. \n",
    "Twinkle, twinkle, little star, \n",
    "    How I wonder what you are\n",
    "\"\"\"\n",
    "print(txt)"
   ]
  },
  {
   "cell_type": "markdown",
   "metadata": {},
   "source": [
    "###  2. Write a Python program to get the Python version you are using"
   ]
  },
  {
   "cell_type": "code",
   "execution_count": 4,
   "metadata": {},
   "outputs": [
    {
     "name": "stdout",
     "output_type": "stream",
     "text": [
      "3.7.3 (default, Mar 27 2019, 17:13:21) [MSC v.1915 64 bit (AMD64)]\n",
      "sys.version_info(major=3, minor=7, micro=3, releaselevel='final', serial=0)\n"
     ]
    }
   ],
   "source": [
    "import sys\n",
    "\n",
    "print(sys.version)\n",
    "print(sys.version_info)"
   ]
  },
  {
   "cell_type": "markdown",
   "metadata": {},
   "source": [
    "###  3. Write a Python program to display the current date and time."
   ]
  },
  {
   "cell_type": "code",
   "execution_count": 5,
   "metadata": {},
   "outputs": [
    {
     "name": "stdout",
     "output_type": "stream",
     "text": [
      "Curren date and time: \n",
      "2019-10-30 22:59:08\n"
     ]
    }
   ],
   "source": [
    "import datetime\n",
    "print('Curren date and time: ')\n",
    "print(datetime.datetime.now().strftime('%Y-%m-%d %H:%M:%S'))"
   ]
  },
  {
   "cell_type": "markdown",
   "metadata": {},
   "source": [
    "### 4. Write a Python program which accepts the radius of a circle from the user and compute the area. "
   ]
  },
  {
   "cell_type": "code",
   "execution_count": 7,
   "metadata": {},
   "outputs": [
    {
     "name": "stdout",
     "output_type": "stream",
     "text": [
      "Enter a radius of circle: 2\n",
      "r = 2.0\n",
      "Area = 12.566370614359172\n"
     ]
    }
   ],
   "source": [
    "import math\n",
    "\n",
    "r = float(input('Enter a radius of circle: '))\n",
    "area = math.pi * (r**2)\n",
    "print('r =', r)\n",
    "print('Area =', area)\n"
   ]
  },
  {
   "cell_type": "markdown",
   "metadata": {},
   "source": [
    "### 5. Write a Python program which accepts the user's first and last name and print them in reverse order with a space between them."
   ]
  },
  {
   "cell_type": "code",
   "execution_count": 22,
   "metadata": {},
   "outputs": [
    {
     "name": "stdout",
     "output_type": "stream",
     "text": [
      "Enter your first name: salim\n",
      "Enter your last name: raza\n",
      "raza salim\n"
     ]
    }
   ],
   "source": [
    "name = []\n",
    "\n",
    "name.append(input('Enter your first name: '))\n",
    "name.append(input('Enter your last name: '))\n",
    "\n",
    "print(name[1], name[0])"
   ]
  },
  {
   "cell_type": "markdown",
   "metadata": {},
   "source": [
    "### 6. Write a python program which takes two inputs from user and print them addition"
   ]
  },
  {
   "cell_type": "code",
   "execution_count": 1,
   "metadata": {},
   "outputs": [
    {
     "name": "stdout",
     "output_type": "stream",
     "text": [
      "Enter 1st no: 7\n",
      "Enter 2nd no: 5\n",
      "Addition 12\n"
     ]
    }
   ],
   "source": [
    "no1 = int(input('Enter 1st no: '))\n",
    "no2 = int(input('Enter 2nd no: '))\n",
    "print('Addition', (no1 + no2))"
   ]
  }
 ],
 "metadata": {
  "kernelspec": {
   "display_name": "Python 3",
   "language": "python",
   "name": "python3"
  },
  "language_info": {
   "codemirror_mode": {
    "name": "ipython",
    "version": 3
   },
   "file_extension": ".py",
   "mimetype": "text/x-python",
   "name": "python",
   "nbconvert_exporter": "python",
   "pygments_lexer": "ipython3",
   "version": "3.7.3"
  }
 },
 "nbformat": 4,
 "nbformat_minor": 2
}
