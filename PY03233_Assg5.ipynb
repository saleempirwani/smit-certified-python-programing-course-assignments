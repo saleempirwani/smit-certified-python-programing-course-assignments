{
 "cells": [
  {
   "cell_type": "markdown",
   "metadata": {},
   "source": [
    "# Course: Certified Python Programming\n",
    "## Assignment # 5\n",
    "### Rollno: PY03233\n",
    "### Name: Muhammad Saleem Raza"
   ]
  },
  {
   "cell_type": "markdown",
   "metadata": {},
   "source": [
    "### 1. Write a Python function to calculate the factorial of a number (a non-negative integer). The function accepts the number as an argument. "
   ]
  },
  {
   "cell_type": "code",
   "execution_count": 10,
   "metadata": {},
   "outputs": [
    {
     "name": "stdout",
     "output_type": "stream",
     "text": [
      "Enter a num to calculate factorial: 5\n",
      "Factorial: 120\n"
     ]
    }
   ],
   "source": [
    "num = int(input('Enter a num to calculate factorial: '))\n",
    "fact = 1\n",
    "for x in range(1, num+1):\n",
    "    fact *= x\n",
    "\n",
    "print('Factorial:', fact)"
   ]
  },
  {
   "cell_type": "markdown",
   "metadata": {},
   "source": [
    "### 2. Write a Python function that accepts a string and calculate the number of upper case letters and lower case letters."
   ]
  },
  {
   "cell_type": "code",
   "execution_count": 20,
   "metadata": {},
   "outputs": [
    {
     "name": "stdout",
     "output_type": "stream",
     "text": [
      "Upper Case: 4\n",
      "Lower Case: 12\n"
     ]
    }
   ],
   "source": [
    "def calc_uplow_case(text=''):\n",
    "    up, low = (0, 0)\n",
    "    for x in text:\n",
    "        if x.isupper():\n",
    "            up += 1\n",
    "        elif x.islower():\n",
    "            low += 1\n",
    "        else: pass\n",
    "        \n",
    "    print('Upper Case:', up)\n",
    "    print('Lower Case:', low)\n",
    "\n",
    "calc_uplow_case('PakisTan ZindaBad')"
   ]
  },
  {
   "cell_type": "markdown",
   "metadata": {},
   "source": [
    "### 3. Write a Python function to print the even numbers from a given list."
   ]
  },
  {
   "cell_type": "code",
   "execution_count": 28,
   "metadata": {},
   "outputs": [
    {
     "name": "stdout",
     "output_type": "stream",
     "text": [
      "2 8 6 0 42 "
     ]
    }
   ],
   "source": [
    "def even_no(num_list):\n",
    "    for x in num_list:\n",
    "        if x%2 == 0:\n",
    "            print(x, end=\" \")\n",
    "            \n",
    "even_no([2, 8, 7, 6, 3, 1, 0, 7, 5, 89, 42, 105,])"
   ]
  },
  {
   "cell_type": "markdown",
   "metadata": {},
   "source": [
    "### 4. Write a Python function that checks whether a passed string is palindrome or not. \n",
    "\n",
    "#### Note: A palindrome is a word, phrase, or sequence that reads the same backward as forward, e.g., madam "
   ]
  },
  {
   "cell_type": "code",
   "execution_count": 34,
   "metadata": {},
   "outputs": [
    {
     "name": "stdout",
     "output_type": "stream",
     "text": [
      "madam is a palidrome string\n"
     ]
    }
   ],
   "source": [
    "def chk_palidrome(text):\n",
    "    if text == text[::-1]:\n",
    "        print(text, 'is a palidrome string')\n",
    "    else:\n",
    "        print(text, 'is not a palidrome string')\n",
    "        \n",
    "chk_palidrome('madam')"
   ]
  },
  {
   "cell_type": "markdown",
   "metadata": {},
   "source": [
    "### 5. Write a Python function that takes a number as a parameter and check the number is prime or not."
   ]
  },
  {
   "cell_type": "code",
   "execution_count": 1,
   "metadata": {},
   "outputs": [
    {
     "name": "stdout",
     "output_type": "stream",
     "text": [
      "5 is a prime number\n"
     ]
    }
   ],
   "source": [
    "def chk_prime(num):\n",
    "    \n",
    "    if num != 0 and num != 1:\n",
    "        for x in range(2, num):\n",
    "            if num%x == 0:\n",
    "                print(num, 'is not a prime number')\n",
    "                break\n",
    "        else:\n",
    "            print(num, 'is a prime number')\n",
    "    else: \n",
    "        print(num, 'is not a prime number')\n",
    "\n",
    "chk_prime(5)"
   ]
  },
  {
   "cell_type": "markdown",
   "metadata": {},
   "source": [
    "### 6. Suppose a customer is shopping in a market and you need to print all the items which user bought from market. \n",
    "### Write a function which accepts the multiple arguments of user shopping list and print all the items which user bought from market.\n",
    "#### (Hint: Arbitrary Argument concept can make this task ease)"
   ]
  },
  {
   "cell_type": "code",
   "execution_count": 64,
   "metadata": {},
   "outputs": [
    {
     "name": "stdout",
     "output_type": "stream",
     "text": [
      "Surf Excel\n",
      "Shampoo\n",
      "Rice\n",
      "Butter\n",
      "Coffee\n"
     ]
    }
   ],
   "source": [
    "def items(*item):\n",
    "    for x in item:\n",
    "        print(x)\n",
    "\n",
    "items('Surf Excel', 'Shampoo', 'Rice', 'Butter', 'Coffee')"
   ]
  }
 ],
 "metadata": {
  "kernelspec": {
   "display_name": "Python 3",
   "language": "python",
   "name": "python3"
  },
  "language_info": {
   "codemirror_mode": {
    "name": "ipython",
    "version": 3
   },
   "file_extension": ".py",
   "mimetype": "text/x-python",
   "name": "python",
   "nbconvert_exporter": "python",
   "pygments_lexer": "ipython3",
   "version": "3.7.3"
  }
 },
 "nbformat": 4,
 "nbformat_minor": 2
}
