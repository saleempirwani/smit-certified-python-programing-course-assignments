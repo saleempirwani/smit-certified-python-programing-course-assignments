{
 "cells": [
  {
   "cell_type": "markdown",
   "metadata": {},
   "source": [
    "# Course: Certified Python Programming\n",
    "## Assignment # 3\n",
    "### Rollno: PY03233\n",
    "### Name: Muhammad Saleem Raza"
   ]
  },
  {
   "cell_type": "markdown",
   "metadata": {},
   "source": [
    "### 1. Make a calculator using Python with addition , subtraction , multiplication , division and power."
   ]
  },
  {
   "cell_type": "code",
   "execution_count": 12,
   "metadata": {},
   "outputs": [
    {
     "name": "stdout",
     "output_type": "stream",
     "text": [
      "Calculator\n",
      "**********\n",
      "\n",
      "1. Add\n",
      "2. Subract\n",
      "3. Multiply\n",
      "4. Division\n",
      "5. Power\n",
      "6. Exit\n",
      "\n",
      "Enter your choice: 6\n",
      "Exiting...\n"
     ]
    }
   ],
   "source": [
    "menu = \"\"\"\n",
    "1. Add\n",
    "2. Subract\n",
    "3. Multiply\n",
    "4. Division\n",
    "5. Power\n",
    "6. Exit\n",
    "\n",
    "Enter your choice: \"\"\"\n",
    "\n",
    "print('Calculator', '*' * 10, sep=\"\\n\")\n",
    "\n",
    "while True:\n",
    "    \n",
    "    ch = input(menu)\n",
    "    \n",
    "    if ch == '1':\n",
    "        x = int(input('Enter no1: '))\n",
    "        y = int(input('Enter no2: '))\n",
    "    \n",
    "        print('Addition:', (x+y))\n",
    "        \n",
    "    elif ch == '2':\n",
    "        x = int(input('Enter no1: '))\n",
    "        y = int(input('Enter no2: '))\n",
    "    \n",
    "        print('Subraction:', (x-y))\n",
    "        \n",
    "    elif ch == '3':\n",
    "        x = int(input('Enter no1: '))\n",
    "        y = int(input('Enter no2: '))\n",
    "    \n",
    "        print('Multiplication:', (x*y))\n",
    "        \n",
    "    elif ch == '4':\n",
    "        x = int(input('Enter no1: '))\n",
    "        y = int(input('Enter no2: '))\n",
    "    \n",
    "        print('Division:', (x/y))\n",
    "        \n",
    "    elif ch == '5':\n",
    "        x = int(input('Enter no1: '))\n",
    "        y = int(input('Enter no2: '))\n",
    "    \n",
    "        print('Power:', (x**y))\n",
    "        \n",
    "    elif ch == '6':\n",
    "        print('Exiting...')\n",
    "        break\n",
    "        \n",
    "    else:\n",
    "        print('Invalid entry, try again')\n",
    " "
   ]
  },
  {
   "cell_type": "markdown",
   "metadata": {},
   "source": [
    "### 2. Write a program to check if there is any numeric value in list using for loop"
   ]
  },
  {
   "cell_type": "code",
   "execution_count": 22,
   "metadata": {},
   "outputs": [
    {
     "name": "stdout",
     "output_type": "stream",
     "text": [
      "Yes! Numeric value is present.\n"
     ]
    }
   ],
   "source": [
    "abc = [\"Ahmed\", \"Ayaz\", \"Hussain\", \"Saleem\", \"92\"]\n",
    "for x in abc:\n",
    "    if x.isnumeric():\n",
    "        print('Yes! Numeric value is present.')\n",
    "        break"
   ]
  },
  {
   "cell_type": "markdown",
   "metadata": {},
   "source": [
    "### 3. Write a Python script to add a key to a dictionary"
   ]
  },
  {
   "cell_type": "code",
   "execution_count": 24,
   "metadata": {},
   "outputs": [
    {
     "name": "stdout",
     "output_type": "stream",
     "text": [
      "{'fname': 'Ahmed', 'lname': 'Ashraf'}\n",
      "{'fname': 'Ahmed', 'lname': 'Ashraf', 'age': 26}\n"
     ]
    }
   ],
   "source": [
    "dic = {'fname': 'Ahmed', 'lname': 'Ashraf'}\n",
    "print(dic)\n",
    "\n",
    "dic.update({'age': 26})\n",
    "print(dic)"
   ]
  },
  {
   "cell_type": "markdown",
   "metadata": {},
   "source": [
    "### 4. Write a Python program to sum all the numeric items in a dictionary"
   ]
  },
  {
   "cell_type": "code",
   "execution_count": 44,
   "metadata": {},
   "outputs": [
    {
     "name": "stdout",
     "output_type": "stream",
     "text": [
      "535\n"
     ]
    }
   ],
   "source": [
    "dic = {\n",
    "    'acc_name': 'abc',\n",
    "    'acc_no': 'acc-356',\n",
    "    'rate': 25,\n",
    "    'quantity': 10,\n",
    "    'total': 250,\n",
    "    'debit': 200,\n",
    "    'credit': 50,\n",
    "}\n",
    "\n",
    "add_all = 0\n",
    "for x in dic.values():\n",
    "    if str(x).isnumeric():\n",
    "        add_all += int(x)\n",
    "        \n",
    "print(add_all)"
   ]
  },
  {
   "cell_type": "markdown",
   "metadata": {},
   "source": [
    "### 5. Write a program to identify duplicate values from list"
   ]
  },
  {
   "cell_type": "code",
   "execution_count": 50,
   "metadata": {},
   "outputs": [
    {
     "name": "stdout",
     "output_type": "stream",
     "text": [
      "Warning: Duplication found!\n"
     ]
    }
   ],
   "source": [
    "lists = [5, 6, 8, 9, 7, 2, 1, 6]\n",
    "sett = set(lists)\n",
    "\n",
    "if len(lists) != len(sett):\n",
    "    print('Warning: Duplication found!')"
   ]
  },
  {
   "cell_type": "markdown",
   "metadata": {},
   "source": [
    "### 6. Write a Python script to check if a given key already exists in a dictionary"
   ]
  },
  {
   "cell_type": "code",
   "execution_count": 56,
   "metadata": {},
   "outputs": [
    {
     "name": "stdout",
     "output_type": "stream",
     "text": [
      "Enter a key: fname\n",
      "The key is already exist...\n"
     ]
    }
   ],
   "source": [
    "dic = {'fname': 'Ahmed', 'lname': 'Ashraf'}\n",
    "\n",
    "key = input('Enter a key: ')\n",
    "\n",
    "if key in dic:\n",
    "    print('The key is already exist...')\n",
    "else:\n",
    "    print('The key does not already exist...')"
   ]
  }
 ],
 "metadata": {
  "kernelspec": {
   "display_name": "Python 3",
   "language": "python",
   "name": "python3"
  },
  "language_info": {
   "codemirror_mode": {
    "name": "ipython",
    "version": 3
   },
   "file_extension": ".py",
   "mimetype": "text/x-python",
   "name": "python",
   "nbconvert_exporter": "python",
   "pygments_lexer": "ipython3",
   "version": "3.7.3"
  }
 },
 "nbformat": 4,
 "nbformat_minor": 2
}
